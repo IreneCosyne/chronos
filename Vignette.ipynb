{
 "cells": [
  {
   "cell_type": "markdown",
   "metadata": {},
   "source": [
    "# Chronos Vignette"
   ]
  },
  {
   "cell_type": "markdown",
   "metadata": {},
   "source": [
    "This vignette walks through a simple exercise in training Chronos on a subset of DepMap public 20Q4 data. "
   ]
  },
  {
   "cell_type": "markdown",
   "metadata": {},
   "source": [
    "## Imports"
   ]
  },
  {
   "cell_type": "code",
   "execution_count": 1,
   "metadata": {},
   "outputs": [],
   "source": [
    "import numpy as np\n",
    "import pandas as pd\n",
    "import chronos\n",
    "import os\n",
    "from matplotlib import pyplot as plt\n",
    "import seaborn as sns\n",
    "from taigapy import default_tc as tc"
   ]
  },
  {
   "cell_type": "markdown",
   "metadata": {},
   "source": [
    "## Setting up the Data"
   ]
  },
  {
   "cell_type": "markdown",
   "metadata": {},
   "source": [
    "Chronos always requires at least three dataframes: \n",
    "* a matrix of readcounts with sequenced entities as the index, individual sgRNAs as the columns, and values indicating how many reads were found for that sgRNA. A sequenced entity any vector of sgRNA readcounts read out during the experiment. It could be a sequencing run of pDNA, or of a biological replicate at some time point during the experiment.\n",
    "* A sequence map mapping sequenced entities to either pDNA or a cell line and giving the days since infection and pDNA batch. \n",
    "* A guide map mapping sgRNAs to genes. Each sgRNA included must map to one and only one gene."
   ]
  },
  {
   "cell_type": "code",
   "execution_count": 2,
   "metadata": {},
   "outputs": [],
   "source": [
    "sequence_map = pd.read_csv(\"Data/Achilles_sequence_map.csv\")\n",
    "guide_map = pd.read_csv(\"Data/avana_guide_map.csv\")\n",
    "readcounts = pd.read_csv(\"Data/Achilles_readcounts.csv\", index_col=0)"
   ]
  },
  {
   "cell_type": "markdown",
   "metadata": {},
   "source": [
    "Sequence maps must have the columns\n",
    "\n",
    "* sequence_id (str), which must match a row in readcounts\n",
    "* cell_line_name (str). Must be \"pDNA\" for pDNA, and each pDNA batch must have at least one pDNA measurement.\n",
    "* pDNA batch (any simple hashable type, preferably int or str). pDNA measurements sharing the same batch will be grouped and averaged, then used as the reference for all biological replicate sequencings assigned that same batch. If you don't have multiple pDNA batches (by far the most common experimental condition), just fill this column with 0 or some other constant value.\n",
    "* days: days post infection. This value will be ignored for pDNA.\n",
    "\n",
    "Other columns will be ignored."
   ]
  },
  {
   "cell_type": "code",
   "execution_count": 3,
   "metadata": {},
   "outputs": [
    {
     "data": {
      "text/html": [
       "<div>\n",
       "<style scoped>\n",
       "    .dataframe tbody tr th:only-of-type {\n",
       "        vertical-align: middle;\n",
       "    }\n",
       "\n",
       "    .dataframe tbody tr th {\n",
       "        vertical-align: top;\n",
       "    }\n",
       "\n",
       "    .dataframe thead th {\n",
       "        text-align: right;\n",
       "    }\n",
       "</style>\n",
       "<table border=\"1\" class=\"dataframe\">\n",
       "  <thead>\n",
       "    <tr style=\"text-align: right;\">\n",
       "      <th></th>\n",
       "      <th>sequence_ID</th>\n",
       "      <th>cell_line_name</th>\n",
       "      <th>pDNA_batch</th>\n",
       "      <th>days</th>\n",
       "    </tr>\n",
       "  </thead>\n",
       "  <tbody>\n",
       "    <tr>\n",
       "      <th>0</th>\n",
       "      <td>SNU-840 311Cas9_RepC_p6_batch2</td>\n",
       "      <td>ACH-000280</td>\n",
       "      <td>2</td>\n",
       "      <td>21</td>\n",
       "    </tr>\n",
       "    <tr>\n",
       "      <th>1</th>\n",
       "      <td>A549-311Cas9 Rep A p5_batch3</td>\n",
       "      <td>ACH-000681</td>\n",
       "      <td>3</td>\n",
       "      <td>21</td>\n",
       "    </tr>\n",
       "    <tr>\n",
       "      <th>2</th>\n",
       "      <td>SNU-840 311Cas9_RepA_p6_batch2</td>\n",
       "      <td>ACH-000280</td>\n",
       "      <td>2</td>\n",
       "      <td>21</td>\n",
       "    </tr>\n",
       "    <tr>\n",
       "      <th>3</th>\n",
       "      <td>COLO320-311Cas9 Rep B p6_batch3</td>\n",
       "      <td>ACH-000202</td>\n",
       "      <td>3</td>\n",
       "      <td>21</td>\n",
       "    </tr>\n",
       "    <tr>\n",
       "      <th>4</th>\n",
       "      <td>Avana4pDNA20160601-311cas9 RepG10_batch2</td>\n",
       "      <td>pDNA</td>\n",
       "      <td>2</td>\n",
       "      <td>0</td>\n",
       "    </tr>\n",
       "    <tr>\n",
       "      <th>5</th>\n",
       "      <td>Panc.02.03-311cas9 Rep C p6_batch3</td>\n",
       "      <td>ACH-000042</td>\n",
       "      <td>3</td>\n",
       "      <td>21</td>\n",
       "    </tr>\n",
       "    <tr>\n",
       "      <th>6</th>\n",
       "      <td>A2058-311cas9_RepA_p6_batch3</td>\n",
       "      <td>ACH-000788</td>\n",
       "      <td>3</td>\n",
       "      <td>21</td>\n",
       "    </tr>\n",
       "    <tr>\n",
       "      <th>7</th>\n",
       "      <td>Avana4pDNA20160601-311cas9 RepG12_batch2</td>\n",
       "      <td>pDNA</td>\n",
       "      <td>2</td>\n",
       "      <td>0</td>\n",
       "    </tr>\n",
       "    <tr>\n",
       "      <th>8</th>\n",
       "      <td>A2058-311cas9_RepB_p6_batch3</td>\n",
       "      <td>ACH-000788</td>\n",
       "      <td>3</td>\n",
       "      <td>21</td>\n",
       "    </tr>\n",
       "    <tr>\n",
       "      <th>9</th>\n",
       "      <td>SNU-840 311Cas9_RepB_p6_batch2</td>\n",
       "      <td>ACH-000280</td>\n",
       "      <td>2</td>\n",
       "      <td>21</td>\n",
       "    </tr>\n",
       "    <tr>\n",
       "      <th>10</th>\n",
       "      <td>A549-311Cas9 Rep D p5_batch3</td>\n",
       "      <td>ACH-000681</td>\n",
       "      <td>3</td>\n",
       "      <td>21</td>\n",
       "    </tr>\n",
       "    <tr>\n",
       "      <th>11</th>\n",
       "      <td>Avana4pDNA20160601-311cas9 RepG09_batch2</td>\n",
       "      <td>pDNA</td>\n",
       "      <td>2</td>\n",
       "      <td>0</td>\n",
       "    </tr>\n",
       "    <tr>\n",
       "      <th>12</th>\n",
       "      <td>Avana 4+ Hu pDNA (M-AA40, 9/30/15) 0.2pg/uL_ba...</td>\n",
       "      <td>pDNA</td>\n",
       "      <td>3</td>\n",
       "      <td>0</td>\n",
       "    </tr>\n",
       "    <tr>\n",
       "      <th>13</th>\n",
       "      <td>A549-311Cas9 Rep C p5_batch3</td>\n",
       "      <td>ACH-000681</td>\n",
       "      <td>3</td>\n",
       "      <td>21</td>\n",
       "    </tr>\n",
       "    <tr>\n",
       "      <th>14</th>\n",
       "      <td>NCI-H1048-311cas9_RepA_p6_batch3</td>\n",
       "      <td>ACH-000866</td>\n",
       "      <td>3</td>\n",
       "      <td>21</td>\n",
       "    </tr>\n",
       "    <tr>\n",
       "      <th>15</th>\n",
       "      <td>COLO320-311Cas9 Rep A p6_batch3</td>\n",
       "      <td>ACH-000202</td>\n",
       "      <td>3</td>\n",
       "      <td>21</td>\n",
       "    </tr>\n",
       "    <tr>\n",
       "      <th>16</th>\n",
       "      <td>NCI-H1048-311cas9_RepB_p6_batch3</td>\n",
       "      <td>ACH-000866</td>\n",
       "      <td>3</td>\n",
       "      <td>21</td>\n",
       "    </tr>\n",
       "    <tr>\n",
       "      <th>17</th>\n",
       "      <td>A549-311Cas9 Rep B p5_batch3</td>\n",
       "      <td>ACH-000681</td>\n",
       "      <td>3</td>\n",
       "      <td>21</td>\n",
       "    </tr>\n",
       "    <tr>\n",
       "      <th>18</th>\n",
       "      <td>Panc.02.03-311cas9 Rep B p6_batch3</td>\n",
       "      <td>ACH-000042</td>\n",
       "      <td>3</td>\n",
       "      <td>21</td>\n",
       "    </tr>\n",
       "    <tr>\n",
       "      <th>19</th>\n",
       "      <td>COLO320-311Cas9 Rep C p6_batch3</td>\n",
       "      <td>ACH-000202</td>\n",
       "      <td>3</td>\n",
       "      <td>21</td>\n",
       "    </tr>\n",
       "    <tr>\n",
       "      <th>20</th>\n",
       "      <td>Avana 4+ Hu pDNA (M-AF34, 11/27/18) 0.2pg/uL_b...</td>\n",
       "      <td>pDNA</td>\n",
       "      <td>3</td>\n",
       "      <td>0</td>\n",
       "    </tr>\n",
       "    <tr>\n",
       "      <th>21</th>\n",
       "      <td>Panc.02.03-311cas9 Rep D p6_batch3</td>\n",
       "      <td>ACH-000042</td>\n",
       "      <td>3</td>\n",
       "      <td>21</td>\n",
       "    </tr>\n",
       "    <tr>\n",
       "      <th>22</th>\n",
       "      <td>HT29-311Cas9_RepB_p6 AVANA_batch3</td>\n",
       "      <td>ACH-000552</td>\n",
       "      <td>3</td>\n",
       "      <td>21</td>\n",
       "    </tr>\n",
       "    <tr>\n",
       "      <th>23</th>\n",
       "      <td>Panc.02.03-311cas9 Rep A p6_batch3</td>\n",
       "      <td>ACH-000042</td>\n",
       "      <td>3</td>\n",
       "      <td>21</td>\n",
       "    </tr>\n",
       "    <tr>\n",
       "      <th>24</th>\n",
       "      <td>Avana 4+ Hu pDNA (M-AA40, 9/30/15)_batch3</td>\n",
       "      <td>pDNA</td>\n",
       "      <td>3</td>\n",
       "      <td>0</td>\n",
       "    </tr>\n",
       "    <tr>\n",
       "      <th>25</th>\n",
       "      <td>HT29-311Cas9_RepA_p6 AVANA_batch3</td>\n",
       "      <td>ACH-000552</td>\n",
       "      <td>3</td>\n",
       "      <td>21</td>\n",
       "    </tr>\n",
       "    <tr>\n",
       "      <th>26</th>\n",
       "      <td>Avana 4+ Hu pDNA (M-AA40, 9/30/15) (0.2pg/uL)_...</td>\n",
       "      <td>pDNA</td>\n",
       "      <td>3</td>\n",
       "      <td>0</td>\n",
       "    </tr>\n",
       "    <tr>\n",
       "      <th>27</th>\n",
       "      <td>Avana4pDNA20160601-311cas9 RepG11_batch2</td>\n",
       "      <td>pDNA</td>\n",
       "      <td>2</td>\n",
       "      <td>0</td>\n",
       "    </tr>\n",
       "  </tbody>\n",
       "</table>\n",
       "</div>"
      ],
      "text/plain": [
       "                                          sequence_ID cell_line_name  \\\n",
       "0                      SNU-840 311Cas9_RepC_p6_batch2     ACH-000280   \n",
       "1                        A549-311Cas9 Rep A p5_batch3     ACH-000681   \n",
       "2                      SNU-840 311Cas9_RepA_p6_batch2     ACH-000280   \n",
       "3                     COLO320-311Cas9 Rep B p6_batch3     ACH-000202   \n",
       "4            Avana4pDNA20160601-311cas9 RepG10_batch2           pDNA   \n",
       "5                  Panc.02.03-311cas9 Rep C p6_batch3     ACH-000042   \n",
       "6                        A2058-311cas9_RepA_p6_batch3     ACH-000788   \n",
       "7            Avana4pDNA20160601-311cas9 RepG12_batch2           pDNA   \n",
       "8                        A2058-311cas9_RepB_p6_batch3     ACH-000788   \n",
       "9                      SNU-840 311Cas9_RepB_p6_batch2     ACH-000280   \n",
       "10                       A549-311Cas9 Rep D p5_batch3     ACH-000681   \n",
       "11           Avana4pDNA20160601-311cas9 RepG09_batch2           pDNA   \n",
       "12  Avana 4+ Hu pDNA (M-AA40, 9/30/15) 0.2pg/uL_ba...           pDNA   \n",
       "13                       A549-311Cas9 Rep C p5_batch3     ACH-000681   \n",
       "14                   NCI-H1048-311cas9_RepA_p6_batch3     ACH-000866   \n",
       "15                    COLO320-311Cas9 Rep A p6_batch3     ACH-000202   \n",
       "16                   NCI-H1048-311cas9_RepB_p6_batch3     ACH-000866   \n",
       "17                       A549-311Cas9 Rep B p5_batch3     ACH-000681   \n",
       "18                 Panc.02.03-311cas9 Rep B p6_batch3     ACH-000042   \n",
       "19                    COLO320-311Cas9 Rep C p6_batch3     ACH-000202   \n",
       "20  Avana 4+ Hu pDNA (M-AF34, 11/27/18) 0.2pg/uL_b...           pDNA   \n",
       "21                 Panc.02.03-311cas9 Rep D p6_batch3     ACH-000042   \n",
       "22                  HT29-311Cas9_RepB_p6 AVANA_batch3     ACH-000552   \n",
       "23                 Panc.02.03-311cas9 Rep A p6_batch3     ACH-000042   \n",
       "24          Avana 4+ Hu pDNA (M-AA40, 9/30/15)_batch3           pDNA   \n",
       "25                  HT29-311Cas9_RepA_p6 AVANA_batch3     ACH-000552   \n",
       "26  Avana 4+ Hu pDNA (M-AA40, 9/30/15) (0.2pg/uL)_...           pDNA   \n",
       "27           Avana4pDNA20160601-311cas9 RepG11_batch2           pDNA   \n",
       "\n",
       "    pDNA_batch  days  \n",
       "0            2    21  \n",
       "1            3    21  \n",
       "2            2    21  \n",
       "3            3    21  \n",
       "4            2     0  \n",
       "5            3    21  \n",
       "6            3    21  \n",
       "7            2     0  \n",
       "8            3    21  \n",
       "9            2    21  \n",
       "10           3    21  \n",
       "11           2     0  \n",
       "12           3     0  \n",
       "13           3    21  \n",
       "14           3    21  \n",
       "15           3    21  \n",
       "16           3    21  \n",
       "17           3    21  \n",
       "18           3    21  \n",
       "19           3    21  \n",
       "20           3     0  \n",
       "21           3    21  \n",
       "22           3    21  \n",
       "23           3    21  \n",
       "24           3     0  \n",
       "25           3    21  \n",
       "26           3     0  \n",
       "27           2     0  "
      ]
     },
     "execution_count": 3,
     "metadata": {},
     "output_type": "execute_result"
    }
   ],
   "source": [
    "sequence_map"
   ]
  },
  {
   "cell_type": "markdown",
   "metadata": {},
   "source": [
    "Guide maps must have the columns \n",
    "\n",
    "* sgrna (str): must match a column in readcounts. An sgrna can only appear once in this data frame.\n",
    "* gene (str): the gene the sgrna maps to.\n",
    "\n",
    "Other columns will be ignored."
   ]
  },
  {
   "cell_type": "code",
   "execution_count": 4,
   "metadata": {},
   "outputs": [
    {
     "data": {
      "text/html": [
       "<div>\n",
       "<style scoped>\n",
       "    .dataframe tbody tr th:only-of-type {\n",
       "        vertical-align: middle;\n",
       "    }\n",
       "\n",
       "    .dataframe tbody tr th {\n",
       "        vertical-align: top;\n",
       "    }\n",
       "\n",
       "    .dataframe thead th {\n",
       "        text-align: right;\n",
       "    }\n",
       "</style>\n",
       "<table border=\"1\" class=\"dataframe\">\n",
       "  <thead>\n",
       "    <tr style=\"text-align: right;\">\n",
       "      <th></th>\n",
       "      <th>sgrna</th>\n",
       "      <th>genome_alignment</th>\n",
       "      <th>gene</th>\n",
       "      <th>n_alignments</th>\n",
       "      <th>positive_control</th>\n",
       "      <th>negative_control</th>\n",
       "    </tr>\n",
       "  </thead>\n",
       "  <tbody>\n",
       "    <tr>\n",
       "      <th>0</th>\n",
       "      <td>AAAAAAATCCAGCAATGCAG</td>\n",
       "      <td>chr10_110964620_+</td>\n",
       "      <td>SHOC2 (8036)</td>\n",
       "      <td>1</td>\n",
       "      <td>True</td>\n",
       "      <td>False</td>\n",
       "    </tr>\n",
       "    <tr>\n",
       "      <th>1</th>\n",
       "      <td>AAAAAAGAAGAAAAAACCAG</td>\n",
       "      <td>chr4_75970356_-</td>\n",
       "      <td>SDAD1 (55153)</td>\n",
       "      <td>1</td>\n",
       "      <td>True</td>\n",
       "      <td>False</td>\n",
       "    </tr>\n",
       "    <tr>\n",
       "      <th>2</th>\n",
       "      <td>AAAAACTCTGGGAAATGACT</td>\n",
       "      <td>chr1_229305137_+</td>\n",
       "      <td>SPHAR (10638)</td>\n",
       "      <td>1</td>\n",
       "      <td>False</td>\n",
       "      <td>True</td>\n",
       "    </tr>\n",
       "    <tr>\n",
       "      <th>3</th>\n",
       "      <td>AAAAAGATCATGATTGAGCG</td>\n",
       "      <td>chr12_123630253_-</td>\n",
       "      <td>EIF2B1 (1967)</td>\n",
       "      <td>1</td>\n",
       "      <td>True</td>\n",
       "      <td>False</td>\n",
       "    </tr>\n",
       "  </tbody>\n",
       "</table>\n",
       "</div>"
      ],
      "text/plain": [
       "                  sgrna   genome_alignment           gene  n_alignments  \\\n",
       "0  AAAAAAATCCAGCAATGCAG  chr10_110964620_+   SHOC2 (8036)             1   \n",
       "1  AAAAAAGAAGAAAAAACCAG    chr4_75970356_-  SDAD1 (55153)             1   \n",
       "2  AAAAACTCTGGGAAATGACT   chr1_229305137_+  SPHAR (10638)             1   \n",
       "3  AAAAAGATCATGATTGAGCG  chr12_123630253_-  EIF2B1 (1967)             1   \n",
       "\n",
       "   positive_control  negative_control  \n",
       "0              True             False  \n",
       "1              True             False  \n",
       "2             False              True  \n",
       "3              True             False  "
      ]
     },
     "execution_count": 4,
     "metadata": {},
     "output_type": "execute_result"
    }
   ],
   "source": [
    "guide_map[:4]"
   ]
  },
  {
   "cell_type": "markdown",
   "metadata": {},
   "source": [
    "Finally, here's what readcounts should look like. They can include NaNs. Note the axes."
   ]
  },
  {
   "cell_type": "code",
   "execution_count": 5,
   "metadata": {},
   "outputs": [
    {
     "data": {
      "text/html": [
       "<div>\n",
       "<style scoped>\n",
       "    .dataframe tbody tr th:only-of-type {\n",
       "        vertical-align: middle;\n",
       "    }\n",
       "\n",
       "    .dataframe tbody tr th {\n",
       "        vertical-align: top;\n",
       "    }\n",
       "\n",
       "    .dataframe thead th {\n",
       "        text-align: right;\n",
       "    }\n",
       "</style>\n",
       "<table border=\"1\" class=\"dataframe\">\n",
       "  <thead>\n",
       "    <tr style=\"text-align: right;\">\n",
       "      <th></th>\n",
       "      <th>AAAAAAATCCAGCAATGCAG</th>\n",
       "      <th>AAAAAAGAAGAAAAAACCAG</th>\n",
       "      <th>AAAAACTCTGGGAAATGACT</th>\n",
       "    </tr>\n",
       "  </thead>\n",
       "  <tbody>\n",
       "    <tr>\n",
       "      <th>SNU-840 311Cas9_RepC_p6_batch2</th>\n",
       "      <td>348.0</td>\n",
       "      <td>78.0</td>\n",
       "      <td>430.0</td>\n",
       "    </tr>\n",
       "    <tr>\n",
       "      <th>A549-311Cas9 Rep A p5_batch3</th>\n",
       "      <td>257.0</td>\n",
       "      <td>100.0</td>\n",
       "      <td>398.0</td>\n",
       "    </tr>\n",
       "    <tr>\n",
       "      <th>SNU-840 311Cas9_RepA_p6_batch2</th>\n",
       "      <td>531.0</td>\n",
       "      <td>160.0</td>\n",
       "      <td>358.0</td>\n",
       "    </tr>\n",
       "    <tr>\n",
       "      <th>COLO320-311Cas9 Rep B p6_batch3</th>\n",
       "      <td>441.0</td>\n",
       "      <td>154.0</td>\n",
       "      <td>608.0</td>\n",
       "    </tr>\n",
       "  </tbody>\n",
       "</table>\n",
       "</div>"
      ],
      "text/plain": [
       "                                 AAAAAAATCCAGCAATGCAG  AAAAAAGAAGAAAAAACCAG  \\\n",
       "SNU-840 311Cas9_RepC_p6_batch2                  348.0                  78.0   \n",
       "A549-311Cas9 Rep A p5_batch3                    257.0                 100.0   \n",
       "SNU-840 311Cas9_RepA_p6_batch2                  531.0                 160.0   \n",
       "COLO320-311Cas9 Rep B p6_batch3                 441.0                 154.0   \n",
       "\n",
       "                                 AAAAACTCTGGGAAATGACT  \n",
       "SNU-840 311Cas9_RepC_p6_batch2                  430.0  \n",
       "A549-311Cas9 Rep A p5_batch3                    398.0  \n",
       "SNU-840 311Cas9_RepA_p6_batch2                  358.0  \n",
       "COLO320-311Cas9 Rep B p6_batch3                 608.0  "
      ]
     },
     "execution_count": 5,
     "metadata": {},
     "output_type": "execute_result"
    }
   ],
   "source": [
    "readcounts.iloc[:4, :3]"
   ]
  },
  {
   "cell_type": "markdown",
   "metadata": {},
   "source": [
    "### NaNing clonal outgrowths"
   ]
  },
  {
   "cell_type": "markdown",
   "metadata": {},
   "source": [
    "In Achilles, we've observed rare instances where a single guide in a single biological replicate will produce an unexpectedly large number of readcounts, while other guides targeting the same gene or other replicates of the same cell line do not show many readcounts. We suspect this is the result of a single clone gaining some fitness advantage. Although it _could_ be related to a change induced by the guide, in general it's probably misleading. Therefore Chronos has an option to identify and remove these events."
   ]
  },
  {
   "cell_type": "code",
   "execution_count": 6,
   "metadata": {},
   "outputs": [
    {
     "name": "stdout",
     "output_type": "stream",
     "text": [
      "calculating LFC\n",
      "finding maximum LFC cells\n",
      "finding sequences and guides with outgrowth\n",
      "22 (0.00442% of) readcounts to be removed\n",
      "                                    gene              \n",
      "SNU-840 311Cas9_RepC_p6_batch2      PTEN (5728)           2.331286\n",
      "A549-311Cas9 Rep A p5_batch3        OR2G2 (81470)         2.223027\n",
      "                                    PSPC1 (55269)         2.356427\n",
      "                                    PTEN (5728)           3.103739\n",
      "                                    TNFRSF13C (115650)    2.500551\n",
      "                                    TRABD2B (388630)      2.215409\n",
      "Panc.02.03-311cas9 Rep C p6_batch3  VIPR2 (7434)          2.276700\n",
      "SNU-840 311Cas9_RepB_p6_batch2      PTEN (5728)           2.435050\n",
      "A549-311Cas9 Rep D p5_batch3        FIBP (9158)           2.795995\n",
      "                                    PTEN (5728)           2.372597\n",
      "dtype: float64\n",
      "NaNing bad outgrowths\n"
     ]
    }
   ],
   "source": [
    "chronos.nan_outgrowths(readcounts=readcounts, guide_gene_map=guide_map,\n",
    "                                   sequence_map=sequence_map)"
   ]
  },
  {
   "cell_type": "markdown",
   "metadata": {},
   "source": [
    "### Train Chronos"
   ]
  },
  {
   "cell_type": "markdown",
   "metadata": {},
   "source": [
    "Now we initialize the model. Note the form of the data: each of the three parameters is actually a dictionary. If we were training the model with data from multiple libraries simultaneously, each library's data would have its own entries in the dict."
   ]
  },
  {
   "cell_type": "code",
   "execution_count": 7,
   "metadata": {},
   "outputs": [
    {
     "name": "stdout",
     "output_type": "stream",
     "text": [
      "\n",
      "\n",
      "Finding all unique guides and genes\n",
      "found 17785 unique guides and 4712 unique genes in avana\n",
      "found 17785 unique guides and 4712 unique genes overall\n",
      "\n",
      "finding guide-gene mapping indices\n",
      "\n",
      "finding all unique sequenced replicates, cell lines, and pDNA batches\n",
      "found 20 unique sequences (excluding pDNA) and 7 unique cell lines in avana\n",
      "found 20 unique replicates and 7 unique cell lines overall\n",
      "\n",
      "finding replicate-cell line mappings indices\n",
      "\n",
      "finding replicate-pDNA mappings indices\n",
      "\n",
      "\n",
      "assigning float constants\n",
      "initializing graph\n"
     ]
    },
    {
     "ename": "AttributeError",
     "evalue": "module 'tensorflow' has no attribute 'placeholder'",
     "output_type": "error",
     "traceback": [
      "\u001b[0;31m---------------------------------------------------------------------------\u001b[0m",
      "\u001b[0;31mAttributeError\u001b[0m                            Traceback (most recent call last)",
      "\u001b[0;32m<ipython-input-7-4e28341541bb>\u001b[0m in \u001b[0;36m<module>\u001b[0;34m()\u001b[0m\n\u001b[1;32m      2\u001b[0m     \u001b[0msequence_map\u001b[0m\u001b[0;34m=\u001b[0m\u001b[0;34m{\u001b[0m\u001b[0;34m\"avana\"\u001b[0m\u001b[0;34m:\u001b[0m \u001b[0msequence_map\u001b[0m\u001b[0;34m}\u001b[0m\u001b[0;34m,\u001b[0m\u001b[0;34m\u001b[0m\u001b[0m\n\u001b[1;32m      3\u001b[0m     \u001b[0mguide_gene_map\u001b[0m\u001b[0;34m=\u001b[0m\u001b[0;34m{\u001b[0m\u001b[0;34m\"avana\"\u001b[0m\u001b[0;34m:\u001b[0m \u001b[0mguide_map\u001b[0m\u001b[0;34m}\u001b[0m\u001b[0;34m,\u001b[0m\u001b[0;34m\u001b[0m\u001b[0m\n\u001b[0;32m----> 4\u001b[0;31m     \u001b[0mreadcounts\u001b[0m\u001b[0;34m=\u001b[0m\u001b[0;34m{\u001b[0m\u001b[0;34m\"avana\"\u001b[0m\u001b[0;34m:\u001b[0m \u001b[0mreadcounts\u001b[0m\u001b[0;34m}\u001b[0m\u001b[0;34m\u001b[0m\u001b[0m\n\u001b[0m\u001b[1;32m      5\u001b[0m )\n",
      "\u001b[0;32m~/packages/chronos_public/chronos/model.py\u001b[0m in \u001b[0;36m__init__\u001b[0;34m(self, readcounts, guide_gene_map, sequence_map, gene_effect_hierarchical, gene_effect_smoothing, kernel_width, gene_effect_L1, gene_effect_L2, excess_variance, guide_efficacy_reg, offset_reg, growth_rate_reg, smart_init, cell_efficacy_guide_quantile, initial_screen_delay, scale_cost, max_learning_rate, dtype, verify_integrity, log_dir)\u001b[0m\n\u001b[1;32m    408\u001b[0m                 \u001b[0mself\u001b[0m\u001b[0;34m.\u001b[0m\u001b[0mmedian_timepoint_counts\u001b[0m \u001b[0;34m=\u001b[0m \u001b[0mself\u001b[0m\u001b[0;34m.\u001b[0m\u001b[0m_summarize_timepoint\u001b[0m\u001b[0;34m(\u001b[0m\u001b[0msequence_map\u001b[0m\u001b[0;34m,\u001b[0m \u001b[0mnp\u001b[0m\u001b[0;34m.\u001b[0m\u001b[0mmedian\u001b[0m\u001b[0;34m)\u001b[0m\u001b[0;34m\u001b[0m\u001b[0m\n\u001b[1;32m    409\u001b[0m \u001b[0;34m\u001b[0m\u001b[0m\n\u001b[0;32m--> 410\u001b[0;31m                 \u001b[0mself\u001b[0m\u001b[0;34m.\u001b[0m\u001b[0m_initialize_graph\u001b[0m\u001b[0;34m(\u001b[0m\u001b[0mmax_learning_rate\u001b[0m\u001b[0;34m,\u001b[0m \u001b[0mdtype\u001b[0m\u001b[0;34m)\u001b[0m\u001b[0;34m\u001b[0m\u001b[0m\n\u001b[0m\u001b[1;32m    411\u001b[0m \u001b[0;34m\u001b[0m\u001b[0m\n\u001b[1;32m    412\u001b[0m                 \u001b[0mself\u001b[0m\u001b[0;34m.\u001b[0m\u001b[0m_gene_effect_mask\u001b[0m\u001b[0;34m,\u001b[0m \u001b[0mself\u001b[0m\u001b[0;34m.\u001b[0m\u001b[0mmask_count\u001b[0m \u001b[0;34m=\u001b[0m \u001b[0mself\u001b[0m\u001b[0;34m.\u001b[0m\u001b[0m_get_gene_effect_mask\u001b[0m\u001b[0;34m(\u001b[0m\u001b[0mdtype\u001b[0m\u001b[0;34m)\u001b[0m\u001b[0;34m\u001b[0m\u001b[0m\n",
      "\u001b[0;32m~/packages/chronos_public/chronos/model.py\u001b[0m in \u001b[0;36m_initialize_graph\u001b[0;34m(self, max_learning_rate, dtype)\u001b[0m\n\u001b[1;32m    672\u001b[0m                 \u001b[0mprint\u001b[0m\u001b[0;34m(\u001b[0m\u001b[0;34m'initializing graph'\u001b[0m\u001b[0;34m)\u001b[0m\u001b[0;34m\u001b[0m\u001b[0m\n\u001b[1;32m    673\u001b[0m                 \u001b[0mself\u001b[0m\u001b[0;34m.\u001b[0m\u001b[0msess\u001b[0m \u001b[0;34m=\u001b[0m \u001b[0mtf\u001b[0m\u001b[0;34m.\u001b[0m\u001b[0mcompat\u001b[0m\u001b[0;34m.\u001b[0m\u001b[0mv1\u001b[0m\u001b[0;34m.\u001b[0m\u001b[0mSession\u001b[0m\u001b[0;34m(\u001b[0m\u001b[0;34m)\u001b[0m\u001b[0;34m\u001b[0m\u001b[0m\n\u001b[0;32m--> 674\u001b[0;31m                 \u001b[0mself\u001b[0m\u001b[0;34m.\u001b[0m\u001b[0m_learning_rate\u001b[0m \u001b[0;34m=\u001b[0m \u001b[0mtf\u001b[0m\u001b[0;34m.\u001b[0m\u001b[0mplaceholder\u001b[0m\u001b[0;34m(\u001b[0m\u001b[0mshape\u001b[0m\u001b[0;34m=\u001b[0m\u001b[0mtuple\u001b[0m\u001b[0;34m(\u001b[0m\u001b[0;34m)\u001b[0m\u001b[0;34m,\u001b[0m \u001b[0mdtype\u001b[0m\u001b[0;34m=\u001b[0m\u001b[0mdtype\u001b[0m\u001b[0;34m)\u001b[0m\u001b[0;34m\u001b[0m\u001b[0m\n\u001b[0m\u001b[1;32m    675\u001b[0m                 \u001b[0mself\u001b[0m\u001b[0;34m.\u001b[0m\u001b[0mrun_dict\u001b[0m \u001b[0;34m=\u001b[0m \u001b[0;34m{\u001b[0m\u001b[0mself\u001b[0m\u001b[0;34m.\u001b[0m\u001b[0m_learning_rate\u001b[0m\u001b[0;34m:\u001b[0m \u001b[0mmax_learning_rate\u001b[0m\u001b[0;34m}\u001b[0m\u001b[0;34m\u001b[0m\u001b[0m\n\u001b[1;32m    676\u001b[0m                 \u001b[0mself\u001b[0m\u001b[0;34m.\u001b[0m\u001b[0mmax_learning_rate\u001b[0m \u001b[0;34m=\u001b[0m \u001b[0mmax_learning_rate\u001b[0m\u001b[0;34m\u001b[0m\u001b[0m\n",
      "\u001b[0;31mAttributeError\u001b[0m: module 'tensorflow' has no attribute 'placeholder'"
     ]
    }
   ],
   "source": [
    "model = chronos.Chronos(\n",
    "    sequence_map={\"avana\": sequence_map},\n",
    "    guide_gene_map={\"avana\": guide_map},\n",
    "    readcounts={\"avana\": readcounts}\n",
    ")"
   ]
  },
  {
   "cell_type": "markdown",
   "metadata": {},
   "source": [
    "Now, optimizing the model:"
   ]
  },
  {
   "cell_type": "code",
   "execution_count": null,
   "metadata": {},
   "outputs": [],
   "source": [
    "model.train(1001)"
   ]
  },
  {
   "cell_type": "markdown",
   "metadata": {},
   "source": [
    "## Scaling"
   ]
  },
  {
   "cell_type": "markdown",
   "metadata": {},
   "source": [
    "We can get back the model for gene effects as follows:"
   ]
  },
  {
   "cell_type": "code",
   "execution_count": null,
   "metadata": {},
   "outputs": [],
   "source": [
    "gene_effects = model.gene_effect\n",
    "\n",
    "gene_effects.iloc[:4, :5]"
   ]
  },
  {
   "cell_type": "markdown",
   "metadata": {},
   "source": [
    "The gene effects represent Chronos' estimate of the relative change in growth rate for a cell line, but the scale is unintuitive. We'll use the normal Achilles conventional, where -1 is the median of essential gene effects and 0 is the median of nonessential gene effects. Note that we are just scaling the data overall--not per cell line, as DepMap does with CERES scores."
   ]
  },
  {
   "cell_type": "code",
   "execution_count": null,
   "metadata": {},
   "outputs": [],
   "source": [
    "nonessentials = guide_map.query(\"negative_control\").gene\n",
    "essentials = guide_map.query(\"positive_control\").gene\n",
    "gene_effects -= gene_effects[nonessentials].median().median()\n",
    "gene_effects /= np.abs(gene_effects[essentials].median().median())\n",
    "\n",
    "gene_effects.iloc[:4, :5]"
   ]
  },
  {
   "cell_type": "markdown",
   "metadata": {},
   "source": [
    "Here's what the distribution of scores for the two control groups looks like over all cell lines."
   ]
  },
  {
   "cell_type": "code",
   "execution_count": null,
   "metadata": {},
   "outputs": [],
   "source": [
    "sns.kdeplot(gene_effects[nonessentials].stack(), label=\"Nonessentials\",\n",
    "           gridsize=1000)\n",
    "sns.kdeplot(gene_effects[essentials].stack(), label=\"Essentials\",\n",
    "           gridsize=1000)\n",
    "plt.xlabel(\"Chronos Gene Effect Scores\")"
   ]
  },
  {
   "cell_type": "markdown",
   "metadata": {},
   "source": [
    "## Copy Number Correction"
   ]
  },
  {
   "cell_type": "markdown",
   "metadata": {},
   "source": [
    "If you have gene-level copy number calls, Chronos includes an option to correct gene effect scores after the fact. This works best if the data has been scaled, as above."
   ]
  },
  {
   "cell_type": "code",
   "execution_count": null,
   "metadata": {},
   "outputs": [],
   "source": [
    "cn = pd.read_csv(\"Data/CCLE_copy_number.csv\", index_col=0)\n",
    "cn.iloc[:4, :3]"
   ]
  },
  {
   "cell_type": "markdown",
   "metadata": {},
   "source": [
    "Unfortunately, we don't have copy number calls for some of the genes targeted by the Avana library:"
   ]
  },
  {
   "cell_type": "code",
   "execution_count": null,
   "metadata": {},
   "outputs": [],
   "source": [
    "try:\n",
    "    corrected, shifts = chronos.alternate_CN(gene_effects, cn)\n",
    "except ValueError as e:\n",
    "    print(e)"
   ]
  },
  {
   "cell_type": "markdown",
   "metadata": {},
   "source": [
    "We could choose to drop these genes. Instead, we'll assume normal ploidy (=1, in the current CCLE convention) for them and fill in the CN matrix accordingly."
   ]
  },
  {
   "cell_type": "code",
   "execution_count": null,
   "metadata": {},
   "outputs": [],
   "source": [
    "for col in set(gene_effects.columns) - set(cn.columns):\n",
    "    cn[col] = 1"
   ]
  },
  {
   "cell_type": "code",
   "execution_count": null,
   "metadata": {},
   "outputs": [],
   "source": [
    "corrected, shifts = chronos.alternate_CN(gene_effects, cn)"
   ]
  },
  {
   "cell_type": "markdown",
   "metadata": {},
   "source": [
    "The \"shifts\" dataframe contains some information about the inferred CN effect, while corrected contains the corrected gene effects matrix. Overall, gene effect matrices will change little after correction, since most genes in most lines are near diploid."
   ]
  },
  {
   "cell_type": "code",
   "execution_count": null,
   "metadata": {},
   "outputs": [],
   "source": [
    "sns.kdeplot(corrected[nonessentials].stack(), label=\"Nonessentials\",\n",
    "           gridsize=1000)\n",
    "sns.kdeplot(corrected[essentials].stack(), label=\"Essentials\",\n",
    "           gridsize=1000)\n",
    "plt.xlabel(\"Chronos Gene Effect Scores\")"
   ]
  }
 ],
 "metadata": {
  "kernelspec": {
   "display_name": "Python 3",
   "language": "python",
   "name": "python3"
  },
  "language_info": {
   "codemirror_mode": {
    "name": "ipython",
    "version": 3
   },
   "file_extension": ".py",
   "mimetype": "text/x-python",
   "name": "python",
   "nbconvert_exporter": "python",
   "pygments_lexer": "ipython3",
   "version": "3.6.5"
  },
  "toc": {
   "base_numbering": 1,
   "nav_menu": {},
   "number_sections": true,
   "sideBar": true,
   "skip_h1_title": false,
   "title_cell": "Table of Contents",
   "title_sidebar": "Contents",
   "toc_cell": false,
   "toc_position": {},
   "toc_section_display": true,
   "toc_window_display": false
  }
 },
 "nbformat": 4,
 "nbformat_minor": 2
}
