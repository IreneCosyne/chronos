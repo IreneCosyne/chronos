{
 "cells": [
  {
   "cell_type": "markdown",
   "metadata": {},
   "source": [
    "# Chronos Vignette"
   ]
  },
  {
   "cell_type": "markdown",
   "metadata": {},
   "source": [
    "This vignette walks through a simple exercise in training Chronos on a subset of DepMap public 20Q4 data. \n",
    "Notes:\n",
    "I had tp install a special version of tesorflow\n",
    "I found in here, otherwise it did not run, it is some sort of incompatibility between MAC and tensorflow\n",
    "\n",
    "https://drive.google.com/drive/folders/1oSipZLnoeQB0Awz8U68KYeCPsULy_dQ7"
   ]
  },
  {
   "cell_type": "markdown",
   "metadata": {},
   "source": [
    "## Imports"
   ]
  },
  {
   "cell_type": "code",
   "execution_count": 13,
   "metadata": {},
   "outputs": [],
   "source": [
    "import numpy as np\n",
    "import pandas as pd\n",
    "import chronos\n",
    "import os\n",
    "from matplotlib import pyplot as plt\n",
    "import seaborn as sns"
   ]
  },
  {
   "cell_type": "markdown",
   "metadata": {},
   "source": [
    "## Setting up the Data"
   ]
  },
  {
   "cell_type": "markdown",
   "metadata": {},
   "source": [
    "Chronos always requires at least three dataframes: \n",
    "* a matrix of readcounts with sequenced entities as the index, individual sgRNAs as the columns, and values indicating how many reads were found for that sgRNA. A sequenced entity any vector of sgRNA readcounts read out during the experiment. It could be a sequencing run of pDNA, or of a biological replicate at some time point during the experiment.\n",
    "* A sequence map mapping sequenced entities to either pDNA or a cell line and giving the days since infection and pDNA batch. \n",
    "* A guide map mapping sgRNAs to genes. Each sgRNA included must map to one and only one gene."
   ]
  },
  {
   "cell_type": "code",
   "execution_count": 14,
   "metadata": {},
   "outputs": [],
   "source": [
    "sequence_map = pd.read_csv(\"Data/Achilles_sequence_map.csv\")\n",
    "guide_map = pd.read_csv(\"Data/avana_guide_map.csv\")\n",
    "readcounts = pd.read_csv(\"Data/Achilles_readcounts.csv\", index_col=0)"
   ]
  },
  {
   "cell_type": "markdown",
   "metadata": {},
   "source": [
    "Sequence maps must have the columns\n",
    "\n",
    "* sequence_id (str), which must match a row in readcounts\n",
    "* cell_line_name (str). Must be \"pDNA\" for pDNA, and each pDNA batch must have at least one pDNA measurement.\n",
    "* pDNA batch (any simple hashable type, preferably int or str). pDNA measurements sharing the same batch will be grouped and averaged, then used as the reference for all biological replicate sequencings assigned that same batch. If you don't have multiple pDNA batches (by far the most common experimental condition), just fill this column with 0 or some other constant value.\n",
    "* days: days post infection. This value will be ignored for pDNA.\n",
    "\n",
    "Other columns will be ignored."
   ]
  },
  {
   "cell_type": "markdown",
   "metadata": {},
   "source": [
    "Guide maps must have the columns \n",
    "\n",
    "* sgrna (str): must match a column in readcounts. An sgrna can only appear once in this data frame.\n",
    "* gene (str): the gene the sgrna maps to.\n",
    "\n",
    "Other columns will be ignored."
   ]
  },
  {
   "cell_type": "code",
   "execution_count": 17,
   "metadata": {},
   "outputs": [
    {
     "data": {
      "text/html": [
       "<div>\n",
       "<style scoped>\n",
       "    .dataframe tbody tr th:only-of-type {\n",
       "        vertical-align: middle;\n",
       "    }\n",
       "\n",
       "    .dataframe tbody tr th {\n",
       "        vertical-align: top;\n",
       "    }\n",
       "\n",
       "    .dataframe thead th {\n",
       "        text-align: right;\n",
       "    }\n",
       "</style>\n",
       "<table border=\"1\" class=\"dataframe\">\n",
       "  <thead>\n",
       "    <tr style=\"text-align: right;\">\n",
       "      <th></th>\n",
       "      <th>sgrna</th>\n",
       "      <th>genome_alignment</th>\n",
       "      <th>gene</th>\n",
       "      <th>n_alignments</th>\n",
       "      <th>positive_control</th>\n",
       "      <th>negative_control</th>\n",
       "    </tr>\n",
       "  </thead>\n",
       "  <tbody>\n",
       "    <tr>\n",
       "      <th>0</th>\n",
       "      <td>AAAAAAATCCAGCAATGCAG</td>\n",
       "      <td>chr10_110964620_+</td>\n",
       "      <td>SHOC2 (8036)</td>\n",
       "      <td>1</td>\n",
       "      <td>True</td>\n",
       "      <td>False</td>\n",
       "    </tr>\n",
       "    <tr>\n",
       "      <th>1</th>\n",
       "      <td>AAAAAAGAAGAAAAAACCAG</td>\n",
       "      <td>chr4_75970356_-</td>\n",
       "      <td>SDAD1 (55153)</td>\n",
       "      <td>1</td>\n",
       "      <td>True</td>\n",
       "      <td>False</td>\n",
       "    </tr>\n",
       "    <tr>\n",
       "      <th>2</th>\n",
       "      <td>AAAAACTCTGGGAAATGACT</td>\n",
       "      <td>chr1_229305137_+</td>\n",
       "      <td>SPHAR (10638)</td>\n",
       "      <td>1</td>\n",
       "      <td>False</td>\n",
       "      <td>True</td>\n",
       "    </tr>\n",
       "    <tr>\n",
       "      <th>3</th>\n",
       "      <td>AAAAAGATCATGATTGAGCG</td>\n",
       "      <td>chr12_123630253_-</td>\n",
       "      <td>EIF2B1 (1967)</td>\n",
       "      <td>1</td>\n",
       "      <td>True</td>\n",
       "      <td>False</td>\n",
       "    </tr>\n",
       "  </tbody>\n",
       "</table>\n",
       "</div>"
      ],
      "text/plain": [
       "                  sgrna   genome_alignment           gene  n_alignments  \\\n",
       "0  AAAAAAATCCAGCAATGCAG  chr10_110964620_+   SHOC2 (8036)             1   \n",
       "1  AAAAAAGAAGAAAAAACCAG    chr4_75970356_-  SDAD1 (55153)             1   \n",
       "2  AAAAACTCTGGGAAATGACT   chr1_229305137_+  SPHAR (10638)             1   \n",
       "3  AAAAAGATCATGATTGAGCG  chr12_123630253_-  EIF2B1 (1967)             1   \n",
       "\n",
       "   positive_control  negative_control  \n",
       "0              True             False  \n",
       "1              True             False  \n",
       "2             False              True  \n",
       "3              True             False  "
      ]
     },
     "execution_count": 17,
     "metadata": {},
     "output_type": "execute_result"
    }
   ],
   "source": [
    "guide_map[:4]"
   ]
  },
  {
   "cell_type": "markdown",
   "metadata": {},
   "source": [
    "Finally, here's what readcounts should look like. They can include NaNs. Note the axes."
   ]
  },
  {
   "cell_type": "code",
   "execution_count": 18,
   "metadata": {},
   "outputs": [
    {
     "data": {
      "text/html": [
       "<div>\n",
       "<style scoped>\n",
       "    .dataframe tbody tr th:only-of-type {\n",
       "        vertical-align: middle;\n",
       "    }\n",
       "\n",
       "    .dataframe tbody tr th {\n",
       "        vertical-align: top;\n",
       "    }\n",
       "\n",
       "    .dataframe thead th {\n",
       "        text-align: right;\n",
       "    }\n",
       "</style>\n",
       "<table border=\"1\" class=\"dataframe\">\n",
       "  <thead>\n",
       "    <tr style=\"text-align: right;\">\n",
       "      <th></th>\n",
       "      <th>AAAAAAATCCAGCAATGCAG</th>\n",
       "      <th>AAAAAAGAAGAAAAAACCAG</th>\n",
       "      <th>AAAAACTCTGGGAAATGACT</th>\n",
       "    </tr>\n",
       "  </thead>\n",
       "  <tbody>\n",
       "    <tr>\n",
       "      <th>SNU-840 311Cas9_RepC_p6_batch2</th>\n",
       "      <td>348.0</td>\n",
       "      <td>78.0</td>\n",
       "      <td>430.0</td>\n",
       "    </tr>\n",
       "    <tr>\n",
       "      <th>A549-311Cas9 Rep A p5_batch3</th>\n",
       "      <td>257.0</td>\n",
       "      <td>100.0</td>\n",
       "      <td>398.0</td>\n",
       "    </tr>\n",
       "    <tr>\n",
       "      <th>SNU-840 311Cas9_RepA_p6_batch2</th>\n",
       "      <td>531.0</td>\n",
       "      <td>160.0</td>\n",
       "      <td>358.0</td>\n",
       "    </tr>\n",
       "    <tr>\n",
       "      <th>COLO320-311Cas9 Rep B p6_batch3</th>\n",
       "      <td>441.0</td>\n",
       "      <td>154.0</td>\n",
       "      <td>608.0</td>\n",
       "    </tr>\n",
       "  </tbody>\n",
       "</table>\n",
       "</div>"
      ],
      "text/plain": [
       "                                 AAAAAAATCCAGCAATGCAG  AAAAAAGAAGAAAAAACCAG  \\\n",
       "SNU-840 311Cas9_RepC_p6_batch2                  348.0                  78.0   \n",
       "A549-311Cas9 Rep A p5_batch3                    257.0                 100.0   \n",
       "SNU-840 311Cas9_RepA_p6_batch2                  531.0                 160.0   \n",
       "COLO320-311Cas9 Rep B p6_batch3                 441.0                 154.0   \n",
       "\n",
       "                                 AAAAACTCTGGGAAATGACT  \n",
       "SNU-840 311Cas9_RepC_p6_batch2                  430.0  \n",
       "A549-311Cas9 Rep A p5_batch3                    398.0  \n",
       "SNU-840 311Cas9_RepA_p6_batch2                  358.0  \n",
       "COLO320-311Cas9 Rep B p6_batch3                 608.0  "
      ]
     },
     "execution_count": 18,
     "metadata": {},
     "output_type": "execute_result"
    }
   ],
   "source": [
    "readcounts.iloc[:4, :3]"
   ]
  },
  {
   "cell_type": "markdown",
   "metadata": {},
   "source": [
    "### NaNing clonal outgrowths"
   ]
  },
  {
   "cell_type": "markdown",
   "metadata": {},
   "source": [
    "In Achilles, we've observed rare instances where a single guide in a single biological replicate will produce an unexpectedly large number of readcounts, while other guides targeting the same gene or other replicates of the same cell line do not show many readcounts. We suspect this is the result of a single clone gaining some fitness advantage. Although it _could_ be related to a change induced by the guide, in general it's probably misleading. Therefore Chronos has an option to identify and remove these events."
   ]
  },
  {
   "cell_type": "code",
   "execution_count": 19,
   "metadata": {},
   "outputs": [
    {
     "name": "stdout",
     "output_type": "stream",
     "text": [
      "calculating LFC\n",
      "finding maximum LFC cells\n",
      "finding sequences and guides with outgrowth\n",
      "22 (0.00442% of) readcounts to be removed\n",
      "                                    gene              \n",
      "SNU-840 311Cas9_RepC_p6_batch2      PTEN (5728)           2.331286\n",
      "A549-311Cas9 Rep A p5_batch3        OR2G2 (81470)         2.223027\n",
      "                                    PSPC1 (55269)         2.356427\n",
      "                                    PTEN (5728)           3.103739\n",
      "                                    TNFRSF13C (115650)    2.500551\n",
      "                                    TRABD2B (388630)      2.215409\n",
      "Panc.02.03-311cas9 Rep C p6_batch3  VIPR2 (7434)          2.276700\n",
      "SNU-840 311Cas9_RepB_p6_batch2      PTEN (5728)           2.435050\n",
      "A549-311Cas9 Rep D p5_batch3        FIBP (9158)           2.795995\n",
      "                                    PTEN (5728)           2.372597\n",
      "dtype: float64\n",
      "NaNing bad outgrowths\n"
     ]
    },
    {
     "name": "stderr",
     "output_type": "stream",
     "text": [
      "/Users/ireneroblesrebollo/Library/CloudStorage/OneDrive-CoSyneTherapeutics/Code/Chronos/chronos/model.py:227: FutureWarning: The default dtype for empty Series will be 'object' instead of 'float64' in a future version. Specify a dtype explicitly to silence this warning.\n",
      "  problems = pd.Series()\n"
     ]
    }
   ],
   "source": [
    "chronos.nan_outgrowths(readcounts=readcounts, guide_gene_map=guide_map,\n",
    "                                   sequence_map=sequence_map)"
   ]
  },
  {
   "cell_type": "markdown",
   "metadata": {},
   "source": [
    "### Train Chronos"
   ]
  },
  {
   "cell_type": "markdown",
   "metadata": {},
   "source": [
    "Now we initialize the model. Note the form of the data: each of the three parameters is actually a dictionary. If we were training the model with data from multiple libraries simultaneously, each library's data would have its own entries in the dict."
   ]
  },
  {
   "cell_type": "code",
   "execution_count": 21,
   "metadata": {},
   "outputs": [
    {
     "name": "stdout",
     "output_type": "stream",
     "text": [
      "\n",
      "\n",
      "Finding all unique guides and genes\n",
      "found 17785 unique guides and 4712 unique genes in avana\n",
      "found 17785 unique guides and 4712 unique genes overall\n",
      "\n",
      "finding guide-gene mapping indices\n",
      "\n",
      "finding all unique sequenced replicates, cell lines, and pDNA batches\n",
      "found 20 unique sequences (excluding pDNA) and 7 unique cell lines in avana\n",
      "found 20 unique replicates and 7 unique cell lines overall\n",
      "\n",
      "finding replicate-cell line mappings indices\n",
      "\n",
      "finding replicate-pDNA mappings indices\n",
      "\n",
      "\n",
      "assigning float constants\n",
      "initializing graph\n",
      "\n",
      "building gene effect mask\n",
      "built mask with no exclusions\n",
      "\n",
      "building doubling vectors\n",
      "made days vector of shape [20, 1] for avana\n",
      "\n",
      "building late observed timepoints\n",
      "\tbuilt normalized timepoints for avana with shape (20, 17785) (replicates X guides)\n",
      "\n",
      "building initial reads\n",
      "\n",
      "\n",
      "Building variables\n",
      "\n",
      "building initial reads estimate\n",
      "made initial batch with shape (2, 17785) for avana\n",
      "building guide efficacy\n",
      "built guide efficacy: shape [1, 17786]\n",
      "building growth rate\n",
      "built growth rate: shape {'avana': [7, 1]}\n",
      "\n",
      "building cell line efficacy\n",
      "built cell line efficacy: shapes {'avana': [7, 1]}\n",
      "building screen delay\n",
      "built screen delay\n",
      "building gene effect\n",
      "built core gene effect: 7 cell lines by 4712 genes\n",
      "\n",
      "\n",
      "Connecting graph nodes in model\n",
      "\n",
      "building effective days\n",
      "built effective days, shapes {'avana': [20, 4712]}\n",
      "\n",
      "building gene effect growth graph nodes\n",
      "built gene effect growth graph nodes, shapes {'avana': [7, 4712]}\n",
      "\n",
      "building combined efficacy\n",
      "built combined efficacy, shape {'avana': [7, 17785]}\n",
      "built expanded combined efficacy, shapes {'avana': [20, 17785]}\n",
      "\n",
      "building growth estimates of edited cells and overall estimates of fold change in guide abundance\n",
      "built growth and change\n",
      "\n",
      "building unnormalized estimates of final abundance\n",
      "built unnormalized abundance\n",
      "\n",
      "building normalized estimates of final abundance\n",
      "built normalized abundance\n",
      "\n",
      "\n",
      "Building all costs\n",
      "\n",
      "assembling guide efficacy regularization\n",
      "building smoothed regularization\n",
      "\n",
      "building initial reads regularization/cost\n",
      "\n",
      "building NB2 cost\n",
      "building other regularizations\n",
      "\n",
      "Creating optimizer\n",
      "initializing variables\n",
      "estimating initial screen efficacy\n",
      "\t avana\n",
      "\tverifying graph integrity\n",
      "verifying user inputs\n",
      "verifying variables\n",
      "verifying calculated terms\n",
      "\tavana _gene_effect\n",
      "\tavana _selected_efficacies\n",
      "\tavana _out\n",
      "\tavana _output_norm\n",
      "\tavana _rpm\n",
      "\tavana _cost_presum\n",
      "sess run\n",
      "\tavana _cost\n",
      "\tavana _full_costs\n",
      "ready to train\n"
     ]
    }
   ],
   "source": [
    "model = chronos.Chronos(\n",
    "    sequence_map={\"avana\": sequence_map},\n",
    "    guide_gene_map={\"avana\": guide_map},\n",
    "    readcounts={\"avana\": readcounts}\n",
    ")"
   ]
  },
  {
   "cell_type": "markdown",
   "metadata": {},
   "source": [
    "Now, optimizing the model:"
   ]
  },
  {
   "cell_type": "code",
   "execution_count": 22,
   "metadata": {},
   "outputs": [
    {
     "name": "stdout",
     "output_type": "stream",
     "text": [
      "cost 0.6697998521139488\n",
      "relative_growth_rate\n",
      "\tavana max 1.022, min 0.98592, mean 1.000\n",
      "mean guide efficacy 0.9920501590325331\n",
      "initial_offset SD: [('avana', 0.0)]\n",
      "\n",
      "gene mean -2.952882586702095e-08\n",
      "SD of gene means 7.348462410632376e-06\n",
      "Mean of gene SDs 7.567008702123128e-06\n",
      "\n",
      "\n",
      "\n",
      "51 epochs trained, time taken 0:00:01, projected remaining 0:00:15\n",
      "cost 0.424728436088177\n",
      "relative_growth_rate\n",
      "\tavana max 1.022, min 0.98592, mean 1.000\n",
      "mean guide efficacy 0.9920501590325331\n",
      "initial_offset SD: [('avana', 0.0)]\n",
      "\n",
      "gene mean 0.004138878271623016\n",
      "SD of gene means 0.011323228955437909\n",
      "Mean of gene SDs 0.010600487285289381\n",
      "\n",
      "\n",
      "\n",
      "101 epochs trained, time taken 0:00:02, projected remaining 0:00:14\n",
      "cost 0.2867407124899476\n",
      "relative_growth_rate\n",
      "\tavana max 1.059, min 0.96804, mean 1.000\n",
      "mean guide efficacy 0.9837464813420377\n",
      "initial_offset SD: [('avana', 0.019075153069308272)]\n",
      "\n",
      "gene mean 0.011440043620674962\n",
      "SD of gene means 0.026093187558526756\n",
      "Mean of gene SDs 0.013211784884449884\n",
      "\n",
      "\n",
      "\n",
      "151 epochs trained, time taken 0:00:02, projected remaining 0:00:11\n",
      "cost 0.1904814500717464\n",
      "relative_growth_rate\n",
      "\tavana max 1.435, min 0.41390, mean 1.000\n",
      "mean guide efficacy 0.859562597289268\n",
      "initial_offset SD: [('avana', 0.089673281292348)]\n",
      "\n",
      "gene mean 0.012124073132450779\n",
      "SD of gene means 0.030682821186597004\n",
      "Mean of gene SDs 0.011861133333483166\n",
      "\n",
      "\n",
      "\n",
      "201 epochs trained, time taken 0:00:03, projected remaining 0:00:09\n",
      "cost 0.18629768441181258\n",
      "relative_growth_rate\n",
      "\tavana max 1.438, min 0.50296, mean 1.000\n",
      "mean guide efficacy 0.8412229297584934\n",
      "initial_offset SD: [('avana', 0.08343118567894323)]\n",
      "\n",
      "gene mean 0.011122004839924255\n",
      "SD of gene means 0.034062909950259915\n",
      "Mean of gene SDs 0.011932607073892123\n",
      "\n",
      "\n",
      "\n",
      "251 epochs trained, time taken 0:00:03, projected remaining 0:00:07\n",
      "cost 0.18452157045221756\n",
      "relative_growth_rate\n",
      "\tavana max 1.444, min 0.53268, mean 1.000\n",
      "mean guide efficacy 0.8314862995012964\n",
      "initial_offset SD: [('avana', 0.0805988135707778)]\n",
      "\n",
      "gene mean 0.009623173481930404\n",
      "SD of gene means 0.03635933932240563\n",
      "Mean of gene SDs 0.011969177219159683\n",
      "\n",
      "\n",
      "\n",
      "301 epochs trained, time taken 0:00:04, projected remaining 0:00:06\n",
      "cost 0.18349966509573246\n",
      "relative_growth_rate\n",
      "\tavana max 1.447, min 0.55117, mean 1.000\n",
      "mean guide efficacy 0.8245540611504095\n",
      "initial_offset SD: [('avana', 0.07879743631250843)]\n",
      "\n",
      "gene mean 0.008261685740999955\n",
      "SD of gene means 0.038127665485002966\n",
      "Mean of gene SDs 0.01202835002713774\n",
      "\n",
      "\n",
      "\n",
      "351 epochs trained, time taken 0:00:04, projected remaining 0:00:05\n",
      "cost 0.18287424043791434\n",
      "relative_growth_rate\n",
      "\tavana max 1.449, min 0.56597, mean 1.000\n",
      "mean guide efficacy 0.8195672306279448\n",
      "initial_offset SD: [('avana', 0.07750744985310233)]\n",
      "\n",
      "gene mean 0.007173567056659764\n",
      "SD of gene means 0.03954621322699365\n",
      "Mean of gene SDs 0.01209482776110451\n",
      "\n",
      "\n",
      "\n",
      "401 epochs trained, time taken 0:00:04, projected remaining 0:00:04\n",
      "cost 0.18243184082607172\n",
      "relative_growth_rate\n",
      "\tavana max 1.451, min 0.57799, mean 1.000\n",
      "mean guide efficacy 0.8153502594086891\n",
      "initial_offset SD: [('avana', 0.07657486456525059)]\n",
      "\n",
      "gene mean 0.0063303834376272974\n",
      "SD of gene means 0.04069227218906981\n",
      "Mean of gene SDs 0.012159859536310259\n",
      "\n",
      "\n",
      "\n",
      "451 epochs trained, time taken 0:00:05, projected remaining 0:00:04\n",
      "cost 0.1821281808210493\n",
      "relative_growth_rate\n",
      "\tavana max 1.452, min 0.58842, mean 1.000\n",
      "mean guide efficacy 0.8124020828300738\n",
      "initial_offset SD: [('avana', 0.07584340665182929)]\n",
      "\n",
      "gene mean 0.005702107651476808\n",
      "SD of gene means 0.04163412897444831\n",
      "Mean of gene SDs 0.012215351889068814\n",
      "\n",
      "\n",
      "\n",
      "501 epochs trained, time taken 0:00:05, projected remaining 0:00:03\n",
      "cost 0.1819270078287838\n",
      "relative_growth_rate\n",
      "\tavana max 1.453, min 0.59672, mean 1.000\n",
      "mean guide efficacy 0.8095813273867413\n",
      "initial_offset SD: [('avana', 0.0752777008443037)]\n",
      "\n",
      "gene mean 0.005246985038439857\n",
      "SD of gene means 0.04241305692444375\n",
      "Mean of gene SDs 0.012264590326687938\n",
      "\n",
      "\n",
      "\n",
      "551 epochs trained, time taken 0:00:06, projected remaining 0:00:03\n",
      "cost 0.1817363033478172\n",
      "relative_growth_rate\n",
      "\tavana max 1.454, min 0.60306, mean 1.000\n",
      "mean guide efficacy 0.8076251362246503\n",
      "initial_offset SD: [('avana', 0.07481081569970632)]\n",
      "\n",
      "gene mean 0.0048978264174073995\n",
      "SD of gene means 0.04305797957788074\n",
      "Mean of gene SDs 0.012300529929973015\n",
      "\n",
      "\n",
      "\n",
      "601 epochs trained, time taken 0:00:06, projected remaining 0:00:02\n",
      "cost 0.18160085532071013\n",
      "relative_growth_rate\n",
      "\tavana max 1.454, min 0.60842, mean 1.000\n",
      "mean guide efficacy 0.8056061660648455\n",
      "initial_offset SD: [('avana', 0.07440716976415528)]\n",
      "\n",
      "gene mean 0.00462282498953763\n",
      "SD of gene means 0.04359922799877723\n",
      "Mean of gene SDs 0.012330355036402741\n",
      "\n",
      "\n",
      "\n",
      "651 epochs trained, time taken 0:00:06, projected remaining 0:00:01\n",
      "cost 0.1814791722524306\n",
      "relative_growth_rate\n",
      "\tavana max 1.455, min 0.61234, mean 1.000\n",
      "mean guide efficacy 0.8041963760713698\n",
      "initial_offset SD: [('avana', 0.07408289390024263)]\n",
      "\n",
      "gene mean 0.004401585880063481\n",
      "SD of gene means 0.04405334009353091\n",
      "Mean of gene SDs 0.012352570913139418\n",
      "\n",
      "\n",
      "\n",
      "701 epochs trained, time taken 0:00:07, projected remaining 0:00:01\n",
      "cost 0.18139067698213926\n",
      "relative_growth_rate\n",
      "\tavana max 1.455, min 0.61562, mean 1.000\n",
      "mean guide efficacy 0.8026669275029722\n",
      "initial_offset SD: [('avana', 0.07380678376143172)]\n",
      "\n",
      "gene mean 0.004224672050742939\n",
      "SD of gene means 0.04443962779727754\n",
      "Mean of gene SDs 0.012369609936151443\n",
      "\n",
      "\n",
      "\n",
      "751 epochs trained, time taken 0:00:07, projected remaining 0:00:00\n",
      "cost 0.18131713777044584\n",
      "relative_growth_rate\n",
      "\tavana max 1.456, min 0.61835, mean 1.000\n",
      "mean guide efficacy 0.8018164604732296\n",
      "initial_offset SD: [('avana', 0.07356063523662874)]\n",
      "\n",
      "gene mean 0.004092205248557756\n",
      "SD of gene means 0.04477553526655564\n",
      "Mean of gene SDs 0.012376645441467585\n",
      "\n",
      "\n",
      "\n",
      "801 epochs trained, time taken 0:00:08, projected remaining 0:00:00\n",
      "cost 0.18123862852761474\n",
      "relative_growth_rate\n",
      "\tavana max 1.456, min 0.62049, mean 1.000\n",
      "mean guide efficacy 0.8006711707680823\n",
      "initial_offset SD: [('avana', 0.07337767632085386)]\n",
      "\n",
      "gene mean 0.003981181938459871\n",
      "SD of gene means 0.04506911325345817\n",
      "Mean of gene SDs 0.012397724056994375\n",
      "\n",
      "\n",
      "\n"
     ]
    }
   ],
   "source": [
    "model.train(801)"
   ]
  },
  {
   "cell_type": "markdown",
   "metadata": {},
   "source": [
    "## Scaling"
   ]
  },
  {
   "cell_type": "markdown",
   "metadata": {},
   "source": [
    "We can get back the model for gene effects as follows:"
   ]
  },
  {
   "cell_type": "code",
   "execution_count": 23,
   "metadata": {},
   "outputs": [
    {
     "data": {
      "text/html": [
       "<div>\n",
       "<style scoped>\n",
       "    .dataframe tbody tr th:only-of-type {\n",
       "        vertical-align: middle;\n",
       "    }\n",
       "\n",
       "    .dataframe tbody tr th {\n",
       "        vertical-align: top;\n",
       "    }\n",
       "\n",
       "    .dataframe thead th {\n",
       "        text-align: right;\n",
       "    }\n",
       "</style>\n",
       "<table border=\"1\" class=\"dataframe\">\n",
       "  <thead>\n",
       "    <tr style=\"text-align: right;\">\n",
       "      <th></th>\n",
       "      <th>A1CF (29974)</th>\n",
       "      <th>AAED1 (195827)</th>\n",
       "      <th>AAMDC (28971)</th>\n",
       "      <th>AAMP (14)</th>\n",
       "      <th>AARS (16)</th>\n",
       "    </tr>\n",
       "  </thead>\n",
       "  <tbody>\n",
       "    <tr>\n",
       "      <th>ACH-000042</th>\n",
       "      <td>0.032967</td>\n",
       "      <td>0.028481</td>\n",
       "      <td>0.038190</td>\n",
       "      <td>-0.020291</td>\n",
       "      <td>-0.088090</td>\n",
       "    </tr>\n",
       "    <tr>\n",
       "      <th>ACH-000202</th>\n",
       "      <td>0.018409</td>\n",
       "      <td>0.025211</td>\n",
       "      <td>0.038294</td>\n",
       "      <td>-0.031794</td>\n",
       "      <td>-0.111022</td>\n",
       "    </tr>\n",
       "    <tr>\n",
       "      <th>ACH-000280</th>\n",
       "      <td>0.042798</td>\n",
       "      <td>0.014285</td>\n",
       "      <td>0.024179</td>\n",
       "      <td>-0.019158</td>\n",
       "      <td>-0.108154</td>\n",
       "    </tr>\n",
       "    <tr>\n",
       "      <th>ACH-000552</th>\n",
       "      <td>0.038241</td>\n",
       "      <td>0.023143</td>\n",
       "      <td>0.032034</td>\n",
       "      <td>-0.023616</td>\n",
       "      <td>-0.114715</td>\n",
       "    </tr>\n",
       "  </tbody>\n",
       "</table>\n",
       "</div>"
      ],
      "text/plain": [
       "            A1CF (29974)  AAED1 (195827)  AAMDC (28971)  AAMP (14)  AARS (16)\n",
       "ACH-000042      0.032967        0.028481       0.038190  -0.020291  -0.088090\n",
       "ACH-000202      0.018409        0.025211       0.038294  -0.031794  -0.111022\n",
       "ACH-000280      0.042798        0.014285       0.024179  -0.019158  -0.108154\n",
       "ACH-000552      0.038241        0.023143       0.032034  -0.023616  -0.114715"
      ]
     },
     "execution_count": 23,
     "metadata": {},
     "output_type": "execute_result"
    }
   ],
   "source": [
    "gene_effects = model.gene_effect\n",
    "\n",
    "gene_effects.iloc[:4, :5]"
   ]
  },
  {
   "cell_type": "markdown",
   "metadata": {},
   "source": [
    "The gene effects represent Chronos' estimate of the relative change in growth rate for a cell line, but the scale is unintuitive. We'll use the normal Achilles convention, where -1 is the median of essential gene effects and 0 is the median of nonessential gene effects. Note that we are just scaling the data overall--not per cell line, as DepMap does with CERES scores."
   ]
  },
  {
   "cell_type": "code",
   "execution_count": 28,
   "metadata": {},
   "outputs": [
    {
     "data": {
      "text/html": [
       "<div>\n",
       "<style scoped>\n",
       "    .dataframe tbody tr th:only-of-type {\n",
       "        vertical-align: middle;\n",
       "    }\n",
       "\n",
       "    .dataframe tbody tr th {\n",
       "        vertical-align: top;\n",
       "    }\n",
       "\n",
       "    .dataframe thead th {\n",
       "        text-align: right;\n",
       "    }\n",
       "</style>\n",
       "<table border=\"1\" class=\"dataframe\">\n",
       "  <thead>\n",
       "    <tr style=\"text-align: right;\">\n",
       "      <th></th>\n",
       "      <th>A1CF (29974)</th>\n",
       "      <th>AAED1 (195827)</th>\n",
       "      <th>AAMDC (28971)</th>\n",
       "      <th>AAMP (14)</th>\n",
       "      <th>AARS (16)</th>\n",
       "    </tr>\n",
       "  </thead>\n",
       "  <tbody>\n",
       "    <tr>\n",
       "      <th>ACH-000042</th>\n",
       "      <td>0.028022</td>\n",
       "      <td>-0.026196</td>\n",
       "      <td>0.091145</td>\n",
       "      <td>-0.615628</td>\n",
       "      <td>-1.435023</td>\n",
       "    </tr>\n",
       "    <tr>\n",
       "      <th>ACH-000202</th>\n",
       "      <td>-0.147917</td>\n",
       "      <td>-0.065716</td>\n",
       "      <td>0.092403</td>\n",
       "      <td>-0.754658</td>\n",
       "      <td>-1.712168</td>\n",
       "    </tr>\n",
       "    <tr>\n",
       "      <th>ACH-000280</th>\n",
       "      <td>0.146841</td>\n",
       "      <td>-0.197764</td>\n",
       "      <td>-0.078182</td>\n",
       "      <td>-0.601938</td>\n",
       "      <td>-1.677505</td>\n",
       "    </tr>\n",
       "    <tr>\n",
       "      <th>ACH-000552</th>\n",
       "      <td>0.091767</td>\n",
       "      <td>-0.090712</td>\n",
       "      <td>0.016753</td>\n",
       "      <td>-0.655822</td>\n",
       "      <td>-1.756807</td>\n",
       "    </tr>\n",
       "  </tbody>\n",
       "</table>\n",
       "</div>"
      ],
      "text/plain": [
       "            A1CF (29974)  AAED1 (195827)  AAMDC (28971)  AAMP (14)  AARS (16)\n",
       "ACH-000042      0.028022       -0.026196       0.091145  -0.615628  -1.435023\n",
       "ACH-000202     -0.147917       -0.065716       0.092403  -0.754658  -1.712168\n",
       "ACH-000280      0.146841       -0.197764      -0.078182  -0.601938  -1.677505\n",
       "ACH-000552      0.091767       -0.090712       0.016753  -0.655822  -1.756807"
      ]
     },
     "execution_count": 28,
     "metadata": {},
     "output_type": "execute_result"
    }
   ],
   "source": [
    "\n",
    "nonessentials = guide_map.query(\"negative_control\").gene\n",
    "essentials = guide_map.query(\"positive_control\").gene\n",
    "gene_effects -= gene_effects[nonessentials].median().median()\n",
    "gene_effects /= np.abs(gene_effects[essentials].median().median())\n",
    "\n",
    "gene_effects.iloc[:4, :5]"
   ]
  },
  {
   "cell_type": "markdown",
   "metadata": {},
   "source": [
    "Here's what the distribution of scores for the two control groups looks like over all cell lines."
   ]
  },
  {
   "cell_type": "code",
   "execution_count": 34,
   "metadata": {},
   "outputs": [
    {
     "data": {
      "text/plain": [
       "Text(0.5, 0, 'Chronos Gene Effect Scores')"
      ]
     },
     "execution_count": 34,
     "metadata": {},
     "output_type": "execute_result"
    },
    {
     "data": {
      "image/png": "[encoded data removed]",
      "text/plain": [
       "<Figure size 432x288 with 1 Axes>"
      ]
     },
     "metadata": {
      "needs_background": "light"
     },
     "output_type": "display_data"
    }
   ],
   "source": [
    "sns.kdeplot(gene_effects[nonessentials].stack().tolist(), label=\"Nonessentials\",\n",
    "           gridsize=1000)\n",
    "sns.kdeplot(gene_effects[essentials].stack().tolist(), label=\"Essentials\",\n",
    "           gridsize=1000)\n",
    "plt.xlabel(\"Chronos Gene Effect Scores\")"
   ]
  },
  {
   "cell_type": "markdown",
   "metadata": {},
   "source": [
    "## Copy Number Correction"
   ]
  },
  {
   "cell_type": "markdown",
   "metadata": {},
   "source": [
    "If you have gene-level copy number calls, Chronos includes an option to correct gene effect scores after the fact. This works best if the data has been scaled, as above."
   ]
  },
  {
   "cell_type": "code",
   "execution_count": 35,
   "metadata": {},
   "outputs": [
    {
     "data": {
      "text/html": [
       "<div>\n",
       "<style scoped>\n",
       "    .dataframe tbody tr th:only-of-type {\n",
       "        vertical-align: middle;\n",
       "    }\n",
       "\n",
       "    .dataframe tbody tr th {\n",
       "        vertical-align: top;\n",
       "    }\n",
       "\n",
       "    .dataframe thead th {\n",
       "        text-align: right;\n",
       "    }\n",
       "</style>\n",
       "<table border=\"1\" class=\"dataframe\">\n",
       "  <thead>\n",
       "    <tr style=\"text-align: right;\">\n",
       "      <th></th>\n",
       "      <th>SHOC2 (8036)</th>\n",
       "      <th>SDAD1 (55153)</th>\n",
       "      <th>SPHAR (10638)</th>\n",
       "    </tr>\n",
       "  </thead>\n",
       "  <tbody>\n",
       "    <tr>\n",
       "      <th>ACH-000202</th>\n",
       "      <td>0.913049</td>\n",
       "      <td>0.958755</td>\n",
       "      <td>0.921488</td>\n",
       "    </tr>\n",
       "    <tr>\n",
       "      <th>ACH-000552</th>\n",
       "      <td>1.104365</td>\n",
       "      <td>0.000000</td>\n",
       "      <td>1.144815</td>\n",
       "    </tr>\n",
       "    <tr>\n",
       "      <th>ACH-000681</th>\n",
       "      <td>1.199605</td>\n",
       "      <td>0.875817</td>\n",
       "      <td>0.000000</td>\n",
       "    </tr>\n",
       "    <tr>\n",
       "      <th>ACH-000866</th>\n",
       "      <td>1.049551</td>\n",
       "      <td>0.000000</td>\n",
       "      <td>1.640867</td>\n",
       "    </tr>\n",
       "  </tbody>\n",
       "</table>\n",
       "</div>"
      ],
      "text/plain": [
       "            SHOC2 (8036)  SDAD1 (55153)  SPHAR (10638)\n",
       "ACH-000202      0.913049       0.958755       0.921488\n",
       "ACH-000552      1.104365       0.000000       1.144815\n",
       "ACH-000681      1.199605       0.875817       0.000000\n",
       "ACH-000866      1.049551       0.000000       1.640867"
      ]
     },
     "execution_count": 35,
     "metadata": {},
     "output_type": "execute_result"
    }
   ],
   "source": [
    "cn = pd.read_csv(\"Data/CCLE_copy_number.csv\", index_col=0)\n",
    "cn.iloc[:4, :3]"
   ]
  },
  {
   "cell_type": "markdown",
   "metadata": {},
   "source": [
    "Unfortunately, we don't have copy number calls for some of the genes targeted by the Avana library:"
   ]
  },
  {
   "cell_type": "code",
   "execution_count": 38,
   "metadata": {},
   "outputs": [
    {
     "name": "stdout",
     "output_type": "stream",
     "text": [
      "\n",
      "Fitting cell line group 1 of 1\n",
      "finding low CN gene effect shifts\n",
      "smoothing and interpolating cutting toxicity for all genes\n",
      "constructed spline matrix of shape 32984, 105\n",
      "\tcost: 0.028147924751561533\n",
      "\tcost: 0.027703685409387526\n",
      "\tcost: 0.027688848654526758\n",
      "\tcost: 0.027684429886824763\n",
      "\tcost: 0.027681921900067376\n",
      "\tcost: 0.027680099097028957\n",
      "generating matrix\n"
     ]
    }
   ],
   "source": [
    "try:\n",
    "    corrected, shifts = chronos.alternate_CN(gene_effects, cn)\n",
    "except ValueError as e:\n",
    "    print(e)"
   ]
  },
  {
   "cell_type": "markdown",
   "metadata": {},
   "source": [
    "We could choose to drop these genes. Instead, we'll assume normal ploidy (=1, in the current CCLE convention) for them and fill in the CN matrix accordingly."
   ]
  },
  {
   "cell_type": "code",
   "execution_count": 39,
   "metadata": {},
   "outputs": [],
   "source": [
    "for col in set(gene_effects.columns) - set(cn.columns):\n",
    "    cn[col] = 1"
   ]
  },
  {
   "cell_type": "code",
   "execution_count": 40,
   "metadata": {},
   "outputs": [
    {
     "name": "stdout",
     "output_type": "stream",
     "text": [
      "\n",
      "Fitting cell line group 1 of 1\n",
      "finding low CN gene effect shifts\n",
      "smoothing and interpolating cutting toxicity for all genes\n",
      "constructed spline matrix of shape 32984, 105\n",
      "\tcost: 0.028147527261379094\n",
      "\tcost: 0.027703656569804305\n",
      "\tcost: 0.02768882460816209\n",
      "\tcost: 0.027684422736686084\n",
      "\tcost: 0.027681899636540077\n",
      "\tcost: 0.027680081598830515\n",
      "generating matrix\n"
     ]
    }
   ],
   "source": [
    "corrected, shifts = chronos.alternate_CN(gene_effects, cn)"
   ]
  },
  {
   "cell_type": "markdown",
   "metadata": {},
   "source": [
    "The \"shifts\" dataframe contains some information about the inferred CN effect, while corrected contains the corrected gene effects matrix. Overall, gene effect matrices will change little after correction, since most genes in most lines are near diploid."
   ]
  },
  {
   "cell_type": "code",
   "execution_count": 42,
   "metadata": {},
   "outputs": [
    {
     "data": {
      "text/plain": [
       "Text(0.5, 0, 'Chronos Gene Effect Scores')"
      ]
     },
     "execution_count": 42,
     "metadata": {},
     "output_type": "execute_result"
    },
    {
     "data": {
      "image/png": "[encoded data removed]",
      "text/plain": [
       "<Figure size 432x288 with 1 Axes>"
      ]
     },
     "metadata": {
      "needs_background": "light"
     },
     "output_type": "display_data"
    }
   ],
   "source": [
    "sns.kdeplot(corrected[nonessentials].stack().tolist(), label=\"Nonessentials\",\n",
    "           gridsize=1000)\n",
    "sns.kdeplot(corrected[essentials].stack().tolist(), label=\"Essentials\",\n",
    "           gridsize=1000)\n",
    "plt.xlabel(\"Chronos Gene Effect Scores\")"
   ]
  },
  {
   "cell_type": "code",
   "execution_count": 46,
   "metadata": {},
   "outputs": [
    {
     "name": "stdout",
     "output_type": "stream",
     "text": [
      "# packages in environment at /Users/ireneroblesrebollo/opt/anaconda3/envs/chronos_env:\n",
      "#\n",
      "# Name                    Version                   Build  Channel\n",
      "absl-py                   0.15.0                   pypi_0    pypi\n",
      "anyio                     3.5.0            py38hecd8cb5_0  \n",
      "appnope                   0.1.2           py38hecd8cb5_1001  \n",
      "argon2-cffi               21.3.0             pyhd3eb1b0_0  \n",
      "argon2-cffi-bindings      21.2.0           py38hca72f7f_0  \n",
      "asttokens                 2.0.5              pyhd3eb1b0_0  \n",
      "astunparse                1.6.3                    pypi_0    pypi\n",
      "attrs                     21.4.0             pyhd3eb1b0_0  \n",
      "babel                     2.9.1              pyhd3eb1b0_0  \n",
      "backcall                  0.2.0              pyhd3eb1b0_0  \n",
      "beautifulsoup4            4.11.1           py38hecd8cb5_0  \n",
      "blas                      1.0                         mkl  \n",
      "bleach                    4.1.0              pyhd3eb1b0_0  \n",
      "bottleneck                1.3.5            py38h67323c0_0  \n",
      "brotli                    1.0.9                hca72f7f_7  \n",
      "brotli-bin                1.0.9                hca72f7f_7  \n",
      "brotlipy                  0.7.0           py38h9ed2024_1003  \n",
      "ca-certificates           2022.07.19           hecd8cb5_0  \n",
      "cachetools                5.2.0                    pypi_0    pypi\n",
      "certifi                   2022.6.15        py38hecd8cb5_0  \n",
      "cffi                      1.15.1           py38hc55c11b_0  \n",
      "charset-normalizer        2.1.0                    pypi_0    pypi\n",
      "cryptography              37.0.1           py38hf6deb26_0  \n",
      "cycler                    0.11.0             pyhd3eb1b0_0  \n",
      "debugpy                   1.5.1            py38he9d5cce_0  \n",
      "decorator                 5.1.1              pyhd3eb1b0_0  \n",
      "defusedxml                0.7.1              pyhd3eb1b0_0  \n",
      "entrypoints               0.4              py38hecd8cb5_0  \n",
      "executing                 0.8.3              pyhd3eb1b0_0  \n",
      "flatbuffers               1.12                     pypi_0    pypi\n",
      "fonttools                 4.25.0             pyhd3eb1b0_0  \n",
      "freetype                  2.11.0               hd8bbffd_0  \n",
      "gast                      0.3.3                    pypi_0    pypi\n",
      "gettext                   0.21.0               h7535e17_0  \n",
      "giflib                    5.2.1                haf1e3a3_0  \n",
      "glib                      2.69.1               h8346a28_1  \n",
      "google-auth               2.10.0                   pypi_0    pypi\n",
      "google-auth-oauthlib      0.4.6                    pypi_0    pypi\n",
      "google-pasta              0.2.0                    pypi_0    pypi\n",
      "grpcio                    1.32.0                   pypi_0    pypi\n",
      "gst-plugins-base          1.14.0               h4180768_2  \n",
      "gstreamer                 1.14.0               h0fc69c2_2  \n",
      "h5py                      2.10.0                   pypi_0    pypi\n",
      "hdf5                      1.10.6               hdbbcd12_0  \n",
      "icu                       58.2                 h0a44026_3  \n",
      "idna                      3.3                      pypi_0    pypi\n",
      "importlib-metadata        4.12.0                   pypi_0    pypi\n",
      "importlib_resources       5.2.0              pyhd3eb1b0_1  \n",
      "intel-openmp              2021.4.0          hecd8cb5_3538  \n",
      "ipykernel                 6.9.1            py38hecd8cb5_0  \n",
      "ipython                   8.4.0            py38hecd8cb5_0  \n",
      "ipython_genutils          0.2.0              pyhd3eb1b0_1  \n",
      "ipywidgets                7.6.5              pyhd3eb1b0_1  \n",
      "jedi                      0.18.1           py38hecd8cb5_1  \n",
      "jinja2                    3.0.3              pyhd3eb1b0_0  \n",
      "jpeg                      9e                   hca72f7f_0  \n",
      "json5                     0.9.6              pyhd3eb1b0_0  \n",
      "jsonschema                4.4.0            py38hecd8cb5_0  \n",
      "jupyter                   1.0.0            py38hecd8cb5_8  \n",
      "jupyter_client            7.2.2            py38hecd8cb5_0  \n",
      "jupyter_console           6.4.3              pyhd3eb1b0_0  \n",
      "jupyter_core              4.10.0           py38hecd8cb5_0  \n",
      "jupyter_server            1.18.1           py38hecd8cb5_0  \n",
      "jupyterlab                3.4.4            py38hecd8cb5_0  \n",
      "jupyterlab_pygments       0.1.2                      py_0  \n",
      "jupyterlab_server         2.12.0           py38hecd8cb5_0  \n",
      "jupyterlab_widgets        1.0.0              pyhd3eb1b0_1  \n",
      "keras                     2.10.0rc1                pypi_0    pypi\n",
      "keras-preprocessing       1.1.2                    pypi_0    pypi\n",
      "kiwisolver                1.4.2            py38he9d5cce_0  \n",
      "krb5                      1.19.2               hcd88c3b_0  \n",
      "lcms2                     2.12                 hf1fd2bf_0  \n",
      "lerc                      3.0                  he9d5cce_0  \n",
      "libbrotlicommon           1.0.9                hca72f7f_7  \n",
      "libbrotlidec              1.0.9                hca72f7f_7  \n",
      "libbrotlienc              1.0.9                hca72f7f_7  \n",
      "libclang                  14.0.6                   pypi_0    pypi\n",
      "libcxx                    12.0.0               h2f01273_0  \n",
      "libdeflate                1.8                  h9ed2024_5  \n",
      "libedit                   3.1.20210910         hca72f7f_0  \n",
      "libffi                    3.3                  hb1e8313_2  \n",
      "libgfortran               3.0.1                h93005f0_2  \n",
      "libiconv                  1.16                 hca72f7f_2  \n",
      "libllvm12                 12.0.0               h9b2ccf5_3  \n",
      "libpng                    1.6.37               ha441bb4_0  \n",
      "libpq                     12.9                 h1c9f633_3  \n",
      "libsodium                 1.0.18               h1de35cc_0  \n",
      "libtiff                   4.4.0                h2ef1027_0  \n",
      "libwebp                   1.2.2                h56c3ce4_0  \n",
      "libwebp-base              1.2.2                hca72f7f_0  \n",
      "libxml2                   2.9.14               hbf8cd5e_0  \n",
      "libxslt                   1.1.35               h5b33f42_0  \n",
      "llvm-openmp               12.0.0               h0dcd299_1  \n",
      "lz4-c                     1.9.3                h23ab428_1  \n",
      "markdown                  3.4.1                    pypi_0    pypi\n",
      "markupsafe                2.1.1                    pypi_0    pypi\n",
      "matplotlib                3.5.1            py38hecd8cb5_1  \n",
      "matplotlib-base           3.5.1            py38hfb0c5b7_1  \n",
      "matplotlib-inline         0.1.2              pyhd3eb1b0_2  \n",
      "mistune                   0.8.4           py38h1de35cc_1001  \n",
      "mkl                       2021.4.0           hecd8cb5_637  \n",
      "mkl-service               2.4.0            py38h9ed2024_0  \n",
      "mkl_fft                   1.3.1            py38h4ab4a9b_0  \n",
      "mkl_random                1.2.2            py38hb2f4e1b_0  \n",
      "munkres                   1.1.4                      py_0  \n",
      "nbclassic                 0.3.5              pyhd3eb1b0_0  \n",
      "nbclient                  0.5.13           py38hecd8cb5_0  \n",
      "nbconvert                 6.4.4            py38hecd8cb5_0  \n",
      "nbformat                  5.3.0            py38hecd8cb5_0  \n",
      "ncurses                   6.3                  hca72f7f_3  \n",
      "nest-asyncio              1.5.5            py38hecd8cb5_0  \n",
      "notebook                  6.4.12           py38hecd8cb5_0  \n",
      "nspr                      4.33                 he9d5cce_0  \n",
      "nss                       3.74                 h47edf6a_0  \n",
      "numexpr                   2.8.3            py38h2e5f0a9_0  \n",
      "numpy                     1.19.5                   pypi_0    pypi\n",
      "oauthlib                  3.2.0                    pypi_0    pypi\n",
      "openssl                   1.1.1q               hca72f7f_0  \n",
      "opt-einsum                3.3.0                    pypi_0    pypi\n",
      "packaging                 21.3                     pypi_0    pypi\n",
      "pandas                    1.4.3                    pypi_0    pypi\n",
      "pandocfilters             1.5.0              pyhd3eb1b0_0  \n",
      "parso                     0.8.3              pyhd3eb1b0_0  \n",
      "patsy                     0.5.2            py38hecd8cb5_1  \n",
      "pcre                      8.45                 h23ab428_0  \n",
      "pexpect                   4.8.0              pyhd3eb1b0_3  \n",
      "pickleshare               0.7.5           pyhd3eb1b0_1003  \n",
      "pillow                    9.2.0            py38hde71d04_1  \n",
      "pip                       22.1.2           py38hecd8cb5_0  \n",
      "ply                       3.11                     py38_0  \n",
      "prometheus_client         0.14.1           py38hecd8cb5_0  \n",
      "prompt-toolkit            3.0.20             pyhd3eb1b0_0  \n",
      "prompt_toolkit            3.0.20               hd3eb1b0_0  \n",
      "protobuf                  3.19.4                   pypi_0    pypi\n",
      "ptyprocess                0.7.0              pyhd3eb1b0_2  \n",
      "pure_eval                 0.2.2              pyhd3eb1b0_0  \n",
      "pyasn1                    0.4.8                    pypi_0    pypi\n",
      "pyasn1-modules            0.2.8                    pypi_0    pypi\n",
      "pycparser                 2.21               pyhd3eb1b0_0  \n",
      "pygments                  2.11.2             pyhd3eb1b0_0  \n",
      "pyopenssl                 22.0.0             pyhd3eb1b0_0  \n",
      "pyparsing                 3.0.9                    pypi_0    pypi\n",
      "pyqt                      5.15.7           py38he9d5cce_0  \n",
      "pyqt5-sip                 12.11.0          py38he9d5cce_0  \n",
      "pyrsistent                0.18.0           py38hca72f7f_0  \n",
      "pysocks                   1.7.1                    py38_1  \n",
      "python                    3.8.5                h26836e1_1  \n",
      "python-dateutil           2.8.2                    pypi_0    pypi\n",
      "python-fastjsonschema     2.15.1             pyhd3eb1b0_0  \n",
      "pytz                      2022.2.1                 pypi_0    pypi\n",
      "pyzmq                     23.2.0           py38he9d5cce_0  \n",
      "qt-main                   5.15.2               h719ae48_7  \n",
      "qt-webengine              5.15.9               h90a370e_4  \n",
      "qtconsole                 5.3.1            py38hecd8cb5_1  \n",
      "qtpy                      2.0.1              pyhd3eb1b0_0  \n",
      "qtwebkit                  5.212                h24dc246_4  \n",
      "readline                  8.1.2                hca72f7f_1  \n",
      "requests                  2.28.1                   pypi_0    pypi\n",
      "requests-oauthlib         1.3.1                    pypi_0    pypi\n",
      "rsa                       4.9                      pypi_0    pypi\n",
      "scipy                     1.7.3            py38h8c7af03_0  \n",
      "seaborn                   0.11.2             pyhd3eb1b0_0  \n",
      "send2trash                1.8.0              pyhd3eb1b0_1  \n",
      "setuptools                65.1.0                   pypi_0    pypi\n",
      "sip                       6.6.2            py38he9d5cce_0  \n",
      "six                       1.15.0                   pypi_0    pypi\n",
      "sniffio                   1.2.0            py38hecd8cb5_1  \n",
      "soupsieve                 2.3.1              pyhd3eb1b0_0  \n",
      "sqlite                    3.39.2               h707629a_0  \n",
      "stack_data                0.2.0              pyhd3eb1b0_0  \n",
      "tensorboard               2.10.0                   pypi_0    pypi\n",
      "tensorboard-data-server   0.6.1                    pypi_0    pypi\n",
      "tensorboard-plugin-wit    1.8.1                    pypi_0    pypi\n",
      "tensorflow                2.4.1                    pypi_0    pypi\n",
      "tensorflow-estimator      2.4.0                    pypi_0    pypi\n",
      "tensorflow-io-gcs-filesystem 0.26.0                   pypi_0    pypi\n",
      "termcolor                 1.1.0                    pypi_0    pypi\n",
      "terminado                 0.13.1           py38hecd8cb5_0  \n",
      "testpath                  0.6.0            py38hecd8cb5_0  \n",
      "tk                        8.6.12               h5d9f67b_0  \n",
      "toml                      0.10.2             pyhd3eb1b0_0  \n",
      "tornado                   6.1              py38h9ed2024_0  \n",
      "traitlets                 5.1.1              pyhd3eb1b0_0  \n",
      "typing-extensions         4.3.0                    pypi_0    pypi\n",
      "urllib3                   1.26.11                  pypi_0    pypi\n",
      "wcwidth                   0.2.5              pyhd3eb1b0_0  \n",
      "webencodings              0.5.1                    py38_1  \n",
      "websocket-client          0.58.0           py38hecd8cb5_4  \n",
      "werkzeug                  2.2.2                    pypi_0    pypi\n",
      "wheel                     0.37.1                   pypi_0    pypi\n",
      "widgetsnbextension        3.5.2            py38hecd8cb5_0  \n",
      "wrapt                     1.12.1                   pypi_0    pypi\n",
      "xz                        5.2.5                hca72f7f_1  \n",
      "zeromq                    4.3.4                h23ab428_0  \n",
      "zipp                      3.8.1                    pypi_0    pypi\n",
      "zlib                      1.2.12               h4dc903c_2  \n",
      "zstd                      1.5.2                hcb37349_0  \n"
     ]
    }
   ],
   "source": [
    "!conda list"
   ]
  }
 ],
 "metadata": {
  "kernelspec": {
   "display_name": "Python [conda env:chronos_env]",
   "language": "python",
   "name": "conda-env-chronos_env-py"
  },
  "language_info": {
   "codemirror_mode": {
    "name": "ipython",
    "version": 3
   },
   "file_extension": ".py",
   "mimetype": "text/x-python",
   "name": "python",
   "nbconvert_exporter": "python",
   "pygments_lexer": "ipython3",
   "version": "3.8.5"
  },
  "toc": {
   "base_numbering": 1,
   "nav_menu": {},
   "number_sections": true,
   "sideBar": true,
   "skip_h1_title": false,
   "title_cell": "Table of Contents",
   "title_sidebar": "Contents",
   "toc_cell": false,
   "toc_position": {},
   "toc_section_display": true,
   "toc_window_display": false
  }
 },
 "nbformat": 4,
 "nbformat_minor": 4
}
